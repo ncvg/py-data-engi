{
 "cells": [
  {
   "cell_type": "markdown",
   "metadata": {},
   "source": [
    "    MongoDB trae en su manual oficial un dataset de restaurante para que juegues con el. Asi pues, tras descargarlo e importarlo a la mi servidor local. Veamos que tiene y que podemos sacar.\n",
    "    \n",
    "    Puedes encontrar el datase en: https://raw.githubusercontent.com/mongodb/docs-assets/primer-dataset/primer-dataset.json"
   ]
  },
  {
   "cell_type": "code",
   "execution_count": 3,
   "metadata": {},
   "outputs": [],
   "source": [
    "import pandas as pd\n",
    "from pymongo import MongoClient"
   ]
  },
  {
   "cell_type": "code",
   "execution_count": 4,
   "metadata": {},
   "outputs": [],
   "source": [
    "client = MongoClient()"
   ]
  },
  {
   "cell_type": "markdown",
   "metadata": {},
   "source": [
    "Lo primero sera montar nuestra conexion con la base de datos para explorar que colecciones tiene y cuantos documentos tiene cada coleccion."
   ]
  },
  {
   "cell_type": "code",
   "execution_count": 5,
   "metadata": {},
   "outputs": [],
   "source": [
    "#client.database_names() nos permite ver que base de datos tenemos dentro del servidor mongo\n",
    "#dbc.command('collstats','restaurants') nos muestra toda la informacion relacionada con una coleccion, pero tengo que\n",
    "#investigarla aún mas para poder usarla adecuadamente."
   ]
  },
  {
   "cell_type": "code",
   "execution_count": 6,
   "metadata": {},
   "outputs": [
    {
     "data": {
      "text/plain": [
       "['restaurants']"
      ]
     },
     "execution_count": 6,
     "metadata": {},
     "output_type": "execute_result"
    }
   ],
   "source": [
    "dbc = client.test  \n",
    "dbc.collection_names()"
   ]
  },
  {
   "cell_type": "code",
   "execution_count": 7,
   "metadata": {},
   "outputs": [
    {
     "data": {
      "text/plain": [
       "25359"
      ]
     },
     "execution_count": 7,
     "metadata": {},
     "output_type": "execute_result"
    }
   ],
   "source": [
    "test = dbc.restaurants\n",
    "test.count()"
   ]
  },
  {
   "cell_type": "markdown",
   "metadata": {},
   "source": [
    "Solo una coleccion, sin embargo tiene más de 25 mil documentos lo cual lo convierte en un buen candidato para cargar todos los datos. Por lo que el siguiente paso seria ver como suelen ser los documentos, para ello cargaremos uno y cual es su estrutura.\n",
    "\n",
    "Nota: Dado que es mongoDB, en una coleccion cada estrutura puede variar. Es decir, puede haber documentos que tenga atributos que no otros no, o le asginen valores de distinto tipo al mismo atributo. Este es solo orientativo."
   ]
  },
  {
   "cell_type": "code",
   "execution_count": 8,
   "metadata": {},
   "outputs": [
    {
     "data": {
      "text/plain": [
       "{'_id': ObjectId('5a69273157f6a3e3520e8426'),\n",
       " 'address': {'building': '2780',\n",
       "  'coord': [-73.98241999999999, 40.579505],\n",
       "  'street': 'Stillwell Avenue',\n",
       "  'zipcode': '11224'},\n",
       " 'borough': 'Brooklyn',\n",
       " 'cuisine': 'American',\n",
       " 'grades': [{'date': datetime.datetime(2014, 6, 10, 0, 0),\n",
       "   'grade': 'A',\n",
       "   'score': 5},\n",
       "  {'date': datetime.datetime(2013, 6, 5, 0, 0), 'grade': 'A', 'score': 7},\n",
       "  {'date': datetime.datetime(2012, 4, 13, 0, 0), 'grade': 'A', 'score': 12},\n",
       "  {'date': datetime.datetime(2011, 10, 12, 0, 0), 'grade': 'A', 'score': 12}],\n",
       " 'name': 'Riviera Caterer',\n",
       " 'restaurant_id': '40356018'}"
      ]
     },
     "execution_count": 8,
     "metadata": {},
     "output_type": "execute_result"
    }
   ],
   "source": [
    "test.find_one() #seleccionamos uno al azar para ver que estrutura suele tener"
   ]
  },
  {
   "cell_type": "markdown",
   "metadata": {},
   "source": [
    "    Las querys de mongo, devuelven un cursor, pero estos cursores se pueden convertir en listas o al estar en formato bson, son facilmente convertible a json. Sin embargo para este caso, nos decantaremos por convertir los datos a una lista y tranformarlo en un dataset."
   ]
  },
  {
   "cell_type": "code",
   "execution_count": 9,
   "metadata": {},
   "outputs": [
    {
     "data": {
      "text/plain": [
       "pymongo.cursor.Cursor"
      ]
     },
     "execution_count": 9,
     "metadata": {},
     "output_type": "execute_result"
    }
   ],
   "source": [
    "type(test.find())"
   ]
  },
  {
   "cell_type": "code",
   "execution_count": 10,
   "metadata": {},
   "outputs": [
    {
     "data": {
      "text/plain": [
       "{'_id': ObjectId('5a69273157f6a3e3520e8426'),\n",
       " 'address': {'building': '2780',\n",
       "  'coord': [-73.98241999999999, 40.579505],\n",
       "  'street': 'Stillwell Avenue',\n",
       "  'zipcode': '11224'},\n",
       " 'borough': 'Brooklyn',\n",
       " 'cuisine': 'American',\n",
       " 'grades': [{'date': datetime.datetime(2014, 6, 10, 0, 0),\n",
       "   'grade': 'A',\n",
       "   'score': 5},\n",
       "  {'date': datetime.datetime(2013, 6, 5, 0, 0), 'grade': 'A', 'score': 7},\n",
       "  {'date': datetime.datetime(2012, 4, 13, 0, 0), 'grade': 'A', 'score': 12},\n",
       "  {'date': datetime.datetime(2011, 10, 12, 0, 0), 'grade': 'A', 'score': 12}],\n",
       " 'name': 'Riviera Caterer',\n",
       " 'restaurant_id': '40356018'}"
      ]
     },
     "execution_count": 10,
     "metadata": {},
     "output_type": "execute_result"
    }
   ],
   "source": [
    "lista = list(test.find({'borough':'Brooklyn'}))\n",
    "lista[0]"
   ]
  },
  {
   "cell_type": "code",
   "execution_count": 11,
   "metadata": {},
   "outputs": [
    {
     "data": {
      "text/html": [
       "<div>\n",
       "<style scoped>\n",
       "    .dataframe tbody tr th:only-of-type {\n",
       "        vertical-align: middle;\n",
       "    }\n",
       "\n",
       "    .dataframe tbody tr th {\n",
       "        vertical-align: top;\n",
       "    }\n",
       "\n",
       "    .dataframe thead th {\n",
       "        text-align: right;\n",
       "    }\n",
       "</style>\n",
       "<table border=\"1\" class=\"dataframe\">\n",
       "  <thead>\n",
       "    <tr style=\"text-align: right;\">\n",
       "      <th></th>\n",
       "      <th>_id</th>\n",
       "      <th>address</th>\n",
       "      <th>borough</th>\n",
       "      <th>cuisine</th>\n",
       "      <th>grades</th>\n",
       "      <th>name</th>\n",
       "      <th>restaurant_id</th>\n",
       "    </tr>\n",
       "  </thead>\n",
       "  <tbody>\n",
       "    <tr>\n",
       "      <th>0</th>\n",
       "      <td>5a69273157f6a3e3520e8426</td>\n",
       "      <td>{'building': '2780', 'coord': [-73.98241999999...</td>\n",
       "      <td>Brooklyn</td>\n",
       "      <td>American</td>\n",
       "      <td>[{'score': 5, 'grade': 'A', 'date': 2014-06-10...</td>\n",
       "      <td>Riviera Caterer</td>\n",
       "      <td>40356018</td>\n",
       "    </tr>\n",
       "    <tr>\n",
       "      <th>1</th>\n",
       "      <td>5a69273157f6a3e3520e8428</td>\n",
       "      <td>{'building': '469', 'coord': [-73.961704, 40.6...</td>\n",
       "      <td>Brooklyn</td>\n",
       "      <td>Hamburgers</td>\n",
       "      <td>[{'score': 8, 'grade': 'A', 'date': 2014-12-30...</td>\n",
       "      <td>Wendy'S</td>\n",
       "      <td>30112340</td>\n",
       "    </tr>\n",
       "    <tr>\n",
       "      <th>2</th>\n",
       "      <td>5a69273157f6a3e3520e842d</td>\n",
       "      <td>{'building': '7114', 'coord': [-73.9068506, 40...</td>\n",
       "      <td>Brooklyn</td>\n",
       "      <td>Delicatessen</td>\n",
       "      <td>[{'score': 10, 'grade': 'A', 'date': 2014-05-2...</td>\n",
       "      <td>Wilken'S Fine Food</td>\n",
       "      <td>40356483</td>\n",
       "    </tr>\n",
       "    <tr>\n",
       "      <th>3</th>\n",
       "      <td>5a69273157f6a3e3520e842e</td>\n",
       "      <td>{'building': '6409', 'coord': [-74.00528899999...</td>\n",
       "      <td>Brooklyn</td>\n",
       "      <td>American</td>\n",
       "      <td>[{'score': 12, 'grade': 'A', 'date': 2014-07-1...</td>\n",
       "      <td>Regina Caterers</td>\n",
       "      <td>40356649</td>\n",
       "    </tr>\n",
       "    <tr>\n",
       "      <th>4</th>\n",
       "      <td>5a69273157f6a3e3520e8430</td>\n",
       "      <td>{'building': '1269', 'coord': [-73.871194, 40....</td>\n",
       "      <td>Brooklyn</td>\n",
       "      <td>Chinese</td>\n",
       "      <td>[{'score': 21, 'grade': 'B', 'date': 2014-09-1...</td>\n",
       "      <td>May May Kitchen</td>\n",
       "      <td>40358429</td>\n",
       "    </tr>\n",
       "  </tbody>\n",
       "</table>\n",
       "</div>"
      ],
      "text/plain": [
       "                        _id  \\\n",
       "0  5a69273157f6a3e3520e8426   \n",
       "1  5a69273157f6a3e3520e8428   \n",
       "2  5a69273157f6a3e3520e842d   \n",
       "3  5a69273157f6a3e3520e842e   \n",
       "4  5a69273157f6a3e3520e8430   \n",
       "\n",
       "                                             address   borough       cuisine  \\\n",
       "0  {'building': '2780', 'coord': [-73.98241999999...  Brooklyn      American   \n",
       "1  {'building': '469', 'coord': [-73.961704, 40.6...  Brooklyn    Hamburgers   \n",
       "2  {'building': '7114', 'coord': [-73.9068506, 40...  Brooklyn  Delicatessen   \n",
       "3  {'building': '6409', 'coord': [-74.00528899999...  Brooklyn      American   \n",
       "4  {'building': '1269', 'coord': [-73.871194, 40....  Brooklyn       Chinese   \n",
       "\n",
       "                                              grades                name  \\\n",
       "0  [{'score': 5, 'grade': 'A', 'date': 2014-06-10...     Riviera Caterer   \n",
       "1  [{'score': 8, 'grade': 'A', 'date': 2014-12-30...             Wendy'S   \n",
       "2  [{'score': 10, 'grade': 'A', 'date': 2014-05-2...  Wilken'S Fine Food   \n",
       "3  [{'score': 12, 'grade': 'A', 'date': 2014-07-1...     Regina Caterers   \n",
       "4  [{'score': 21, 'grade': 'B', 'date': 2014-09-1...     May May Kitchen   \n",
       "\n",
       "  restaurant_id  \n",
       "0      40356018  \n",
       "1      30112340  \n",
       "2      40356483  \n",
       "3      40356649  \n",
       "4      40358429  "
      ]
     },
     "execution_count": 11,
     "metadata": {},
     "output_type": "execute_result"
    }
   ],
   "source": [
    "df = pd.DataFrame(lista)\n",
    "df.head()"
   ]
  },
  {
   "cell_type": "markdown",
   "metadata": {},
   "source": [
    "Vaya, algo extraño sucede con nuestro nuevo dataset. Parace ser que los atributos combuesto por varios atributos son interpretado como un unico valor, lo cual afea y hace más dificil su analisis. Para solucionar este problema deberemos cavar en cada columna."
   ]
  },
  {
   "cell_type": "code",
   "execution_count": 60,
   "metadata": {},
   "outputs": [
    {
     "data": {
      "text/plain": [
       "dict_values(['2780', [-73.98241999999999, 40.579505], 'Stillwell Avenue', '11224'])"
      ]
     },
     "execution_count": 60,
     "metadata": {},
     "output_type": "execute_result"
    }
   ],
   "source": [
    "df['coords'] = df['address'].apply(lambda x : x['coord'])\n",
    "df['address'] = df ['address'].apply(lambda x : x.values())\n",
    "df['address'][0]\n"
   ]
  },
  {
   "cell_type": "code",
   "execution_count": null,
   "metadata": {},
   "outputs": [],
   "source": []
  },
  {
   "cell_type": "markdown",
   "metadata": {},
   "source": [
    "# LISTA DE PROBLEMAS A SOLUCIONAR:\n",
    "No se han comprobado de forma adecuada la estrutura general y las excepciones de los documentos. Lo cual va a dar problemas."
   ]
  }
 ],
 "metadata": {
  "kernelspec": {
   "display_name": "Python 3",
   "language": "python",
   "name": "python3"
  },
  "language_info": {
   "codemirror_mode": {
    "name": "ipython",
    "version": 3
   },
   "file_extension": ".py",
   "mimetype": "text/x-python",
   "name": "python",
   "nbconvert_exporter": "python",
   "pygments_lexer": "ipython3",
   "version": "3.5.2"
  }
 },
 "nbformat": 4,
 "nbformat_minor": 2
}
